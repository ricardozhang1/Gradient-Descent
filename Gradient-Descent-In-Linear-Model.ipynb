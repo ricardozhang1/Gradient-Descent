{
 "cells": [
  {
   "cell_type": "markdown",
   "metadata": {},
   "source": [
    "### 在线性模型中使用梯度下降法"
   ]
  },
  {
   "cell_type": "code",
   "execution_count": 2,
   "metadata": {},
   "outputs": [],
   "source": [
    "import numpy as np\n",
    "import matplotlib.pyplot as plt"
   ]
  },
  {
   "cell_type": "code",
   "execution_count": 9,
   "metadata": {},
   "outputs": [],
   "source": [
    "np.random.seed(666)\n",
    "x = 2 * np.random.random(size=100)\n",
    "y = x * 3. + 4. + np.random.normal(size=100)"
   ]
  },
  {
   "cell_type": "code",
   "execution_count": 10,
   "metadata": {},
   "outputs": [],
   "source": [
    "X = x.reshape(-1,1)"
   ]
  },
  {
   "cell_type": "code",
   "execution_count": 11,
   "metadata": {},
   "outputs": [
    {
     "data": {
      "text/plain": [
       "(100, 1)"
      ]
     },
     "execution_count": 11,
     "metadata": {},
     "output_type": "execute_result"
    }
   ],
   "source": [
    "X.shape"
   ]
  },
  {
   "cell_type": "code",
   "execution_count": 12,
   "metadata": {},
   "outputs": [
    {
     "data": {
      "text/plain": [
       "(100,)"
      ]
     },
     "execution_count": 12,
     "metadata": {},
     "output_type": "execute_result"
    }
   ],
   "source": [
    "y.shape"
   ]
  },
  {
   "cell_type": "code",
   "execution_count": 13,
   "metadata": {},
   "outputs": [
    {
     "data": {
      "image/png": "[encoded data removed]",
      "text/plain": [
       "<Figure size 432x288 with 1 Axes>"
      ]
     },
     "metadata": {},
     "output_type": "display_data"
    }
   ],
   "source": [
    "plt.scatter(x, y)\n",
    "plt.show()"
   ]
  },
  {
   "cell_type": "markdown",
   "metadata": {},
   "source": [
    "### 使用梯度下降法训练"
   ]
  },
  {
   "cell_type": "code",
   "execution_count": 14,
   "metadata": {},
   "outputs": [],
   "source": [
    "def J(theta, X_b, y):\n",
    "    try:\n",
    "        return np.sum((y - X_b.dot(theta)) ** 2) / len(X_b)\n",
    "    except:\n",
    "        return float('info')"
   ]
  },
  {
   "cell_type": "code",
   "execution_count": 15,
   "metadata": {},
   "outputs": [],
   "source": [
    "# 比较笨的方法\n",
    "def dJ(theta, X_b, y):\n",
    "    res = np.empty(len(theta))\n",
    "    res[0] = np.sum(X_b.dot(theta) - y)\n",
    "    for i in range(1, len(theta)):\n",
    "        res[i] = (X_b.dot(theta) - y).dot(X_b[:, i])\n",
    "    return res * 2 / len(X_b)"
   ]
  },
  {
   "cell_type": "code",
   "execution_count": 17,
   "metadata": {},
   "outputs": [],
   "source": [
    "def grandient_descent(X_b, y, initial_theta, eta, n_iters=1e4, epsilon=1e-8):\n",
    "    theta = initial_theta\n",
    "    i_iter = 0\n",
    "    \n",
    "    while i_iter < n_iters:\n",
    "        gradient = dJ(theta, X_b, y)\n",
    "        last_theta = theta\n",
    "        theta = theta - eta * gradient\n",
    "        \n",
    "        if (abs(J(theta, X_b, y) - J(last_theta, X_b, y)) < epsilon):\n",
    "            break\n",
    "            \n",
    "        i_iter += 1\n",
    "    return theta"
   ]
  },
  {
   "cell_type": "code",
   "execution_count": 21,
   "metadata": {},
   "outputs": [],
   "source": [
    "X_b = np.hstack([np.ones((len(x), 1)), x.reshape(-1, 1)])\n",
    "initial_theta = np.zeros(X_b.shape[1])\n",
    "eta = 0.01\n",
    "theta = grandient_descent(X_b, y, initial_theta, eta)"
   ]
  },
  {
   "cell_type": "code",
   "execution_count": 22,
   "metadata": {},
   "outputs": [
    {
     "data": {
      "text/plain": [
       "array([4.02145786, 3.00706277])"
      ]
     },
     "execution_count": 22,
     "metadata": {},
     "output_type": "execute_result"
    }
   ],
   "source": [
    "theta"
   ]
  },
  {
   "cell_type": "markdown",
   "metadata": {},
   "source": [
    "### 使用sclearn中的用法"
   ]
  },
  {
   "cell_type": "code",
   "execution_count": 23,
   "metadata": {},
   "outputs": [
    {
     "name": "stderr",
     "output_type": "stream",
     "text": [
      "/usr/local/lib/python3.7/site-packages/sklearn/linear_model/base.py:485: RuntimeWarning: internal gelsd driver lwork query error, required iwork dimension not returned. This is likely the result of LAPACK bug 0038, fixed in LAPACK 3.2.2 (released July 21, 2010). Falling back to 'gelss' driver.\n",
      "  linalg.lstsq(X, y)\n"
     ]
    },
    {
     "data": {
      "text/plain": [
       "LinearRegression(copy_X=True, fit_intercept=True, n_jobs=None,\n",
       "         normalize=False)"
      ]
     },
     "execution_count": 23,
     "metadata": {},
     "output_type": "execute_result"
    }
   ],
   "source": [
    "from sklearn.linear_model import LinearRegression\n",
    "\n",
    "lin_reg = LinearRegression()\n",
    "lin_reg.fit(X, y)"
   ]
  },
  {
   "cell_type": "code",
   "execution_count": 24,
   "metadata": {},
   "outputs": [
    {
     "name": "stdout",
     "output_type": "stream",
     "text": [
      "[3.00517447] 4.023696672103901\n"
     ]
    }
   ],
   "source": [
    "print(lin_reg.coef_, lin_reg.intercept_)   # 斜率项，截距项"
   ]
  },
  {
   "cell_type": "markdown",
   "metadata": {},
   "source": [
    "### 线性回归中梯度下降法的向量化"
   ]
  },
  {
   "cell_type": "markdown",
   "metadata": {},
   "source": [
    "#### （略）"
   ]
  },
  {
   "cell_type": "markdown",
   "metadata": {},
   "source": [
    "### 梯度下降法的使用"
   ]
  },
  {
   "cell_type": "code",
   "execution_count": 25,
   "metadata": {},
   "outputs": [],
   "source": [
    "import numpy as np\n",
    "from sklearn import datasets\n",
    "from sklearn.linear_model import LinearRegression"
   ]
  },
  {
   "cell_type": "code",
   "execution_count": 26,
   "metadata": {},
   "outputs": [],
   "source": [
    "boston = datasets.load_boston()\n",
    "X = boston.data\n",
    "y = boston.target\n",
    "\n",
    "X = X[y < 50]\n",
    "y = y[y < 50]"
   ]
  },
  {
   "cell_type": "code",
   "execution_count": 30,
   "metadata": {},
   "outputs": [],
   "source": [
    "from sklearn.model_selection import train_test_split\n",
    "\n",
    "X_train, X_test, y_train, y_test = train_test_split(X, y, test_size=0.2, random_state=666)"
   ]
  },
  {
   "cell_type": "code",
   "execution_count": 31,
   "metadata": {},
   "outputs": [
    {
     "name": "stdout",
     "output_type": "stream",
     "text": [
      "CPU times: user 2.04 ms, sys: 2.24 ms, total: 4.27 ms\n",
      "Wall time: 69.9 ms\n"
     ]
    },
    {
     "data": {
      "text/plain": [
       "0.812979405621281"
      ]
     },
     "execution_count": 31,
     "metadata": {},
     "output_type": "execute_result"
    }
   ],
   "source": [
    "lin_reg = LinearRegression()\n",
    "%time lin_reg.fit(X_train, y_train)\n",
    "lin_reg.score(X_test, y_test)       # R^2值"
   ]
  },
  {
   "cell_type": "markdown",
   "metadata": {},
   "source": [
    "### 使用梯度下降法"
   ]
  },
  {
   "cell_type": "markdown",
   "metadata": {},
   "source": [
    "##### 使用梯度下降法之前，需要进行归一化"
   ]
  },
  {
   "cell_type": "code",
   "execution_count": 32,
   "metadata": {},
   "outputs": [
    {
     "data": {
      "text/plain": [
       "StandardScaler(copy=True, with_mean=True, with_std=True)"
      ]
     },
     "execution_count": 32,
     "metadata": {},
     "output_type": "execute_result"
    }
   ],
   "source": [
    "# 归一化\n",
    "from sklearn.preprocessing import StandardScaler\n",
    "\n",
    "standardScaler = StandardScaler()\n",
    "standardScaler.fit(X_train)"
   ]
  },
  {
   "cell_type": "code",
   "execution_count": 35,
   "metadata": {},
   "outputs": [],
   "source": [
    "X_train_standard = standardScaler.transform(X_train)\n",
    "X_test_standard = standardScaler.transform(X_test)"
   ]
  },
  {
   "cell_type": "code",
   "execution_count": 37,
   "metadata": {},
   "outputs": [
    {
     "name": "stdout",
     "output_type": "stream",
     "text": [
      "CPU times: user 2.23 ms, sys: 1.23 ms, total: 3.46 ms\n",
      "Wall time: 2.37 ms\n"
     ]
    },
    {
     "data": {
      "text/plain": [
       "0.812979405621281"
      ]
     },
     "execution_count": 37,
     "metadata": {},
     "output_type": "execute_result"
    }
   ],
   "source": [
    "lin_reg1 = LinearRegression()\n",
    "%time lin_reg1.fit(X_train_standard, y_train)\n",
    "lin_reg1.score(X_test_standard, y_test)       # R^2值"
   ]
  },
  {
   "cell_type": "markdown",
   "metadata": {},
   "source": [
    "### 梯度下降法的优势"
   ]
  },
  {
   "cell_type": "code",
   "execution_count": 38,
   "metadata": {},
   "outputs": [],
   "source": [
    "m = 1000\n",
    "n = 5000\n",
    "\n",
    "big_X = np.random.normal(size=(m, n))\n",
    "true_theta = np.random.uniform(0.0, 100.0, size=n+1)\n",
    "big_y = big_X.dot(true_theta[1:]) + true_theta[0] + np.random.normal(0.0, 10.0, size=m)"
   ]
  },
  {
   "cell_type": "code",
   "execution_count": 40,
   "metadata": {},
   "outputs": [
    {
     "data": {
      "text/plain": [
       "array([[ 0.78590233, -0.37198983,  1.01149733, ..., -0.86659114,\n",
       "         0.75744366,  0.54266853],\n",
       "       [ 0.73929397,  0.02601104,  1.69203408, ..., -1.08139844,\n",
       "        -1.80240682,  0.95610147],\n",
       "       [ 1.09269451,  0.31085962, -1.29742877, ...,  0.90913838,\n",
       "        -0.11942534, -0.71057055],\n",
       "       ...,\n",
       "       [ 0.58011346,  0.55935947, -1.32682939, ...,  1.08871572,\n",
       "         0.0654675 ,  0.61587814],\n",
       "       [-1.20869571, -0.48719994,  0.81151086, ...,  0.29125527,\n",
       "        -2.13518048, -0.65888082],\n",
       "       [-0.08049257,  0.65943582, -0.93169313, ...,  0.04093854,\n",
       "         0.71214974, -0.17355439]])"
      ]
     },
     "execution_count": 40,
     "metadata": {},
     "output_type": "execute_result"
    }
   ],
   "source": [
    "big_X"
   ]
  },
  {
   "cell_type": "code",
   "execution_count": 41,
   "metadata": {},
   "outputs": [
    {
     "data": {
      "text/plain": [
       "array([88.5354643 , 47.47413697, 34.95880375, ..., 11.54532485,\n",
       "       49.62815137,  2.87078592])"
      ]
     },
     "execution_count": 41,
     "metadata": {},
     "output_type": "execute_result"
    }
   ],
   "source": [
    "true_theta"
   ]
  },
  {
   "cell_type": "code",
   "execution_count": 42,
   "metadata": {},
   "outputs": [
    {
     "data": {
      "text/plain": [
       "array([-9.78997831e+03,  1.40510558e+03, -6.02236028e+03, -1.00494560e+04,\n",
       "       -2.47244392e+03,  3.37134775e+03,  3.32069805e+03,  5.26628455e+03,\n",
       "       -2.87453008e+03, -3.46731260e+03,  1.24787535e+03,  2.50016873e+03,\n",
       "        4.72036574e+03,  1.45753102e+03, -6.96981660e+03, -4.62880531e+02,\n",
       "       -1.43025161e+03, -2.71159749e+03,  9.42336152e+02, -1.99815853e+02,\n",
       "        8.25636058e+03, -3.87037488e+03,  5.81425365e+03, -4.25827426e+03,\n",
       "        3.25848759e+03,  6.29906554e+03, -8.11321549e+03, -2.61497029e+03,\n",
       "       -1.31959832e+03,  3.67161661e+03, -1.13388116e+03,  2.07232202e+03,\n",
       "        4.00028546e+03, -9.60225388e+02, -1.29140874e+03,  2.89139935e+03,\n",
       "        6.11073282e+02, -2.19841728e+03, -2.21151858e+03,  2.22412397e+03,\n",
       "       -1.04463198e+03,  3.17578064e+03,  6.22346442e+03, -7.36047791e+03,\n",
       "       -5.03451542e+03,  3.06551159e+02,  1.50992597e+03,  6.46281904e+01,\n",
       "       -5.00554262e+03, -8.81280640e+01, -6.90771447e+03,  3.17116530e+03,\n",
       "        5.17435745e+03, -2.45989637e+03,  2.23500181e+00, -1.78192514e+03,\n",
       "        4.78986368e+03, -5.99286398e+03, -4.32637916e+03,  1.55193227e+03,\n",
       "        1.96364050e+02, -3.98002991e+03,  3.77810736e+00,  2.04291072e+03,\n",
       "       -5.03939878e+02, -3.62776040e+03,  3.74420699e+03,  1.77544124e+03,\n",
       "       -3.42383470e+03,  1.63273509e+03,  1.97648498e+02, -5.58649491e+03,\n",
       "       -1.96404548e+03, -6.69905351e+03, -2.38238673e+03, -1.40228498e+03,\n",
       "        9.26409322e+02, -3.16730584e+03, -1.35635065e+03,  1.01067493e+04,\n",
       "        2.64159332e+03,  2.00777311e+03, -2.42427389e+03, -8.02880279e+03,\n",
       "       -1.43001876e+03, -2.23387047e+03, -1.08170575e+03, -3.54412251e+03,\n",
       "        2.36385644e+03, -5.56802029e+03,  6.77227428e+02, -4.38955246e+03,\n",
       "       -1.82861032e+03,  1.72887131e+03,  4.00079698e+03, -3.87679982e+03,\n",
       "        5.41111391e+02, -3.40108470e+03, -2.49360995e+03,  5.42266027e+01,\n",
       "       -1.38749187e+03,  1.78278603e+03, -6.41451482e+02,  3.20763719e+03,\n",
       "        3.06124138e+03,  4.44631948e+03, -2.40039144e+03,  8.88147661e+02,\n",
       "       -1.43114163e+03, -2.93998880e+03, -3.36117914e+03, -1.82843211e+03,\n",
       "       -2.28279937e+02, -4.11672482e+02, -8.13641587e+03,  7.74549905e+03,\n",
       "        4.82195262e+03,  7.64156710e+03,  7.40862803e+02,  2.69448928e+03,\n",
       "       -2.26755633e+03,  7.99386544e+02, -4.12700790e+03, -2.70035448e+02,\n",
       "        4.46271359e+03, -1.09156473e+04, -7.32472343e+01,  4.47405468e+02,\n",
       "        6.83104879e+03, -2.46923063e+03,  3.76969892e+03,  2.24237463e+03,\n",
       "       -8.37405996e+02,  1.62402953e+01,  3.22232816e+03, -1.04238672e+03,\n",
       "       -2.96060799e+03,  4.71783348e+02, -6.46917480e+02, -6.48448421e+03,\n",
       "        1.05916115e+02,  2.77894316e+03,  1.08089479e+03, -6.97733153e+03,\n",
       "       -3.01824487e+03, -6.47698560e+03, -1.52381042e+03,  1.89910447e+03,\n",
       "        2.21443365e+03,  7.05501303e+03,  6.06618891e+03, -4.44858885e+03,\n",
       "       -2.31144179e+03, -1.00288195e+04,  1.62191136e+03,  7.57322761e+03,\n",
       "        6.68471639e+02, -8.53686696e+03,  5.15992010e+03, -3.88254015e+02,\n",
       "        5.63822094e+03, -4.90980606e+03,  1.68273139e+03, -2.23080972e+03,\n",
       "        4.90734946e+03, -4.17108133e+03, -3.56663167e+03, -7.89680247e+03,\n",
       "        2.11478185e+03, -3.96020512e+03,  5.68008280e+03,  2.52875362e+03,\n",
       "        7.31141716e+03, -2.01674762e+03, -8.30749912e+01, -2.95828355e+03,\n",
       "       -1.23499145e+03, -2.17521300e+03,  3.72403036e+03,  4.83693707e+03,\n",
       "       -3.52411621e+03, -2.83011722e+03, -4.62973251e+03, -4.48108541e+03,\n",
       "       -1.20146571e+03, -1.39264820e+03,  6.64524741e+03, -4.63316346e+03,\n",
       "       -2.21667137e+03,  1.66871848e+03,  1.04209502e+03, -1.03698898e+04,\n",
       "        4.94163345e+03,  2.83295855e+02, -2.35918179e+03,  9.89842651e+02,\n",
       "        5.27182733e+03,  1.58633685e+03, -1.57802639e+03,  3.21829889e+03,\n",
       "        2.86858512e+03,  4.99014943e+03, -6.54236256e+03,  1.90487596e+03,\n",
       "       -1.96030558e+03, -3.59677120e+03,  2.74035372e+03,  4.74827256e+03,\n",
       "       -1.05780224e+04, -1.18008689e+03, -5.89326189e+02,  3.31602863e+01,\n",
       "        2.53210041e+03, -2.75189360e+03, -8.64816254e+02,  3.94034167e+02,\n",
       "        6.08829491e+03,  1.08353128e+04,  2.93824426e+01,  3.78942632e+03,\n",
       "        6.23974426e+03, -7.71683828e+02, -1.90207810e+03,  1.25406221e+03,\n",
       "        1.90434645e+03,  6.49809467e+03,  1.10900219e+04,  3.46249428e+03,\n",
       "       -6.40930196e+03, -7.18715423e+03, -7.46930985e+03,  1.19241898e+01,\n",
       "        2.42739401e+03,  1.61798718e+02, -1.04135430e+02,  3.80667407e+03,\n",
       "       -4.65937276e+03, -7.71098743e+03,  5.31380469e+03, -1.64372170e+03,\n",
       "       -4.42783312e+03,  1.27082403e+03,  2.94150416e+03,  6.56597089e+03,\n",
       "       -3.99798494e+03,  2.76593938e+03, -1.62335104e+03, -7.64834083e+02,\n",
       "        3.40407344e+03,  1.69685636e+03,  3.83313729e+02, -5.37636376e+03,\n",
       "        1.97747133e+03,  2.96320171e+03, -1.71991172e+03, -1.47520508e+03,\n",
       "       -3.65500539e+03,  2.39235496e+03, -8.43792223e+02, -3.94281465e+03,\n",
       "       -5.29996351e+03,  5.24056219e+03, -3.48622912e+03, -2.01318595e+03,\n",
       "       -4.49111381e+03,  3.72369828e+03, -1.32639920e+03,  2.01124998e+02,\n",
       "       -7.21645874e+02, -3.33380571e+03, -2.22354925e+03,  5.27485731e+03,\n",
       "        7.17576227e+03, -2.24490737e+03, -5.99737614e+02, -2.12525843e+03,\n",
       "        3.07406344e+03,  8.19694274e+02,  1.64240865e+03, -5.07346091e+03,\n",
       "        1.30994023e+02, -2.49048794e+03, -3.25419708e+02, -4.77569185e+03,\n",
       "        2.11476229e+03,  3.75513473e+03,  2.16859792e+03,  7.06216114e+03,\n",
       "        1.94544984e+03,  9.14284359e+03,  4.69117642e+03, -4.29840909e+02,\n",
       "       -1.53296475e+03,  3.84657060e+03, -3.64816241e+03,  3.98440125e+03,\n",
       "        7.36714022e+02, -6.36930444e+02,  9.88670483e+03, -2.06117867e+03,\n",
       "        7.04334989e+02,  4.64301662e+03,  3.89183196e+03,  5.02377677e+03,\n",
       "       -3.80960977e+03,  2.35906490e+03,  6.09545962e+03, -3.51305901e+03,\n",
       "        1.39169089e+03, -2.28907395e+03,  5.71400022e+02,  3.46322139e+03,\n",
       "       -1.62776676e+03, -5.53937968e+03, -6.24033373e+03, -3.18435130e+03,\n",
       "       -8.11790315e+02, -7.49547802e+03,  8.07679435e+03, -5.62299180e+03,\n",
       "        8.77668901e+03, -3.21490949e+03,  2.99795180e+03,  1.04038804e+03,\n",
       "        4.54516437e+03, -2.39612856e+03,  3.57079245e+03, -1.13037259e+04,\n",
       "        6.42277987e+03,  4.00954503e+02, -2.37390387e+02,  7.61300346e+03,\n",
       "       -4.88250949e+02, -9.47675211e+02, -5.69848874e+02,  4.03293054e+02,\n",
       "       -3.81185438e+02,  4.33760315e+03, -1.28288292e+03, -7.60921918e+02,\n",
       "       -2.19693052e+03, -1.08078235e+03,  5.15576828e+02,  1.11165963e+02,\n",
       "       -4.08147102e+03,  7.61690417e+03,  1.14069654e+03,  5.32764892e+03,\n",
       "        3.42138676e+03,  7.33930720e+02,  2.34681626e+03, -3.49762353e+03,\n",
       "        8.98299384e+02, -2.14872140e+02,  1.35612133e+03,  4.57282931e+03,\n",
       "       -1.81671270e+03,  9.26777287e+02,  1.31649379e+03, -7.03879767e+02,\n",
       "        1.87086833e+03, -2.04191613e+03, -1.73409755e+03, -4.69882884e+03,\n",
       "        1.74816781e+03,  1.64056976e+03,  2.67369782e+03, -4.78541700e+03,\n",
       "       -6.14477391e+03, -1.60375813e+03,  4.48155962e+03, -9.58903438e+02,\n",
       "        1.30477690e+03,  4.06507914e+03, -7.35169752e+02,  1.82021000e+03,\n",
       "       -2.02957728e+03,  9.45684819e+03,  5.43542212e+03, -5.58186294e+03,\n",
       "       -2.42368249e+03, -2.13924037e+03, -1.18682565e+03,  4.40497704e+03,\n",
       "       -2.93932935e+03, -4.01649654e+02, -2.31101329e+03,  1.98600667e+02,\n",
       "       -5.47238046e+02,  4.08213701e+03, -3.73364357e+03, -3.76751627e+03,\n",
       "        4.53382631e+03,  1.11457533e+03, -3.33090840e+03,  8.69469079e+03,\n",
       "        5.53802100e+03, -2.89966417e+03, -1.53664801e+03,  5.13701266e+03,\n",
       "       -1.27257062e+03, -5.87070150e+03,  5.58026832e+03,  1.14155082e+03,\n",
       "       -4.94643039e+02, -1.41705999e+03,  6.33941184e+03, -4.78967575e+03,\n",
       "       -4.04244091e+03,  1.06947502e+04,  2.99921451e+03, -6.89108933e+03,\n",
       "       -8.84923846e+02,  2.70763743e+03, -3.51467621e+02, -1.76714093e+02,\n",
       "       -8.18988573e+03,  2.82176170e+03, -7.78583459e+02, -5.97812463e+03,\n",
       "        7.34324760e+03, -2.92895261e+03,  2.67745027e+03,  5.67451611e+03,\n",
       "       -2.77331227e+03, -4.99335082e+03, -3.92234858e+03, -8.22098896e+03,\n",
       "        9.43844596e+03, -1.24270887e+03,  1.44114516e+03,  1.07170625e+03,\n",
       "       -1.41594580e+03,  2.47668003e+02, -4.75103906e+03,  1.58071188e+03,\n",
       "        4.31543703e+03,  3.75257640e+03,  5.11206823e+03,  1.11495354e+04,\n",
       "       -7.28647415e+03,  6.70848542e+02, -5.43596624e+01, -2.24852127e+03,\n",
       "       -1.19321291e+04, -6.64658870e+03,  8.35784770e+01,  6.98568641e+02,\n",
       "        5.26089138e+02,  7.52706050e+03, -3.78643279e+03, -5.20922178e+03,\n",
       "       -7.20356498e+03, -5.14311177e+02, -3.40704009e+02,  2.56806227e+03,\n",
       "        3.71429561e+02, -3.92319133e+03,  2.83190779e+03,  5.25539452e+03,\n",
       "        2.91695950e+03, -1.28824760e+04,  3.04439060e+03, -6.14564114e+02,\n",
       "        1.93224150e+03,  1.96542160e+03, -9.06105700e+02, -6.58864772e+02,\n",
       "        2.06288957e+03, -3.41790974e+03,  2.45024950e+03, -1.75436681e+03,\n",
       "        3.26277133e+03,  5.78514110e+02,  1.47835022e+03, -1.22344386e+03,\n",
       "       -4.74616829e+03,  3.15965745e+03,  2.79320851e+02, -4.22987900e+03,\n",
       "        7.03906559e+03,  3.64913388e+03, -1.80952876e+03, -3.96869778e+03,\n",
       "       -8.89427768e+01,  4.83172748e+03,  6.30278640e+03, -6.96961604e+03,\n",
       "       -5.08297465e+03,  2.61378680e+03,  4.80531690e+03, -2.68162236e+03,\n",
       "        8.05836198e+03,  5.25928791e+02, -4.86068029e+03, -2.24586285e+02,\n",
       "       -1.79697762e+03, -1.39024116e+03,  1.12686895e+03, -5.31095315e+03,\n",
       "        2.36036768e+03,  5.80519384e+03,  3.08461636e+02,  1.57450785e+03,\n",
       "       -1.73632040e+03, -2.77575912e+03, -1.74881001e+03,  3.47622245e+03,\n",
       "        1.73497923e+03, -3.05802374e+03,  8.63732295e+01,  1.96556072e+03,\n",
       "        5.22044369e+03, -6.45341532e+03, -9.28900488e+03, -1.86737800e+03,\n",
       "        1.18955067e+04, -3.19223543e+03, -4.36270905e+03, -9.46034802e+01,\n",
       "       -1.40658892e+03,  2.40993911e+03, -1.74975409e+03, -5.50012151e+03,\n",
       "       -4.91877537e+02, -4.40848108e+02, -1.06957282e+03, -2.57131987e+03,\n",
       "        2.57200865e+03,  1.25817405e+04, -2.41314235e+02,  8.74517200e+03,\n",
       "        2.21664232e+03, -1.10089353e+02, -9.89336080e+02,  8.41634830e+02,\n",
       "        1.52515145e+03, -5.15678947e+02,  3.53466995e+03,  3.37374825e+03,\n",
       "        3.08825271e+03, -8.23394554e+03, -2.57839868e+03,  2.51019244e+03,\n",
       "        5.47786140e+03, -5.31971525e+03,  3.78248281e+03, -3.08264414e+03,\n",
       "        1.54257485e+03, -2.67151546e+02,  3.75934752e+03,  1.97266823e+03,\n",
       "        9.28482795e+02,  6.03096570e+03, -4.86419366e+03, -2.57337202e+01,\n",
       "        4.32641026e+03, -3.93724667e+03, -2.66836476e+03, -1.97591123e+03,\n",
       "        1.17817180e+02, -7.72628641e+03,  2.58990669e+03, -1.84207683e+03,\n",
       "        2.90363704e+03, -7.30888503e+03,  6.25123567e+03, -6.01201578e+03,\n",
       "        5.40562247e+03, -2.67242422e+03,  1.98550838e+02,  5.03130138e+03,\n",
       "       -9.45636890e+02,  4.02900082e+03, -5.96662479e+02, -3.08806469e+03,\n",
       "       -2.82808606e+03, -8.95125019e+01, -3.08396072e+03, -5.90847126e+03,\n",
       "        5.37047465e+03,  1.87229764e+02, -2.74141719e+03, -5.52706168e+02,\n",
       "        8.11784832e+03,  1.93222966e+03,  2.92951883e+03, -1.76490338e+03,\n",
       "        6.60089044e+03,  4.16911880e+03,  5.89700357e+02, -2.54272613e+03,\n",
       "       -6.89452763e+03,  3.04448837e+03, -9.08126172e+03, -2.87506530e+03,\n",
       "       -6.82587711e+02,  3.49952007e+03, -2.13683281e+03, -8.61672557e+02,\n",
       "        1.26525623e+03,  1.94404885e+03,  1.55481429e+03,  2.10181647e+02,\n",
       "       -3.16266180e+03, -1.09623850e+03,  5.22287817e+03, -1.46059735e+03,\n",
       "        4.58000706e+03, -2.97855070e+02,  5.34931773e+02,  2.86387969e+03,\n",
       "        8.49183255e+03, -3.06202220e+03,  3.74573536e+03, -3.84452679e+03,\n",
       "       -8.10000894e+03, -5.15460471e+03, -4.27623258e+03, -4.38390915e+03,\n",
       "        1.61103849e+03, -8.20001518e+03, -2.24429904e+03, -7.71604119e+02,\n",
       "        8.29489560e+03, -3.69996850e+03, -2.29915629e+03,  1.89359823e+03,\n",
       "       -2.26030927e+03, -6.84611571e+03,  2.19645361e+03, -6.44389107e+03,\n",
       "        2.08649130e+03,  1.14400883e+03,  8.45876101e+03, -2.81191320e+03,\n",
       "        2.71514229e+03, -2.42568623e+03,  4.24784636e+03, -3.91378316e+03,\n",
       "        1.31617709e+02,  1.61805832e+03, -1.54994889e+03,  6.76780398e+03,\n",
       "       -1.03711281e+03,  4.35053398e+03, -5.49737889e+03, -4.73708701e+03,\n",
       "        2.02652577e+03,  1.74693377e+02, -5.15710438e+02,  1.82715914e+03,\n",
       "       -5.24090191e+03,  1.25401916e+04,  8.18020611e+02, -2.98154302e+01,\n",
       "       -1.82813195e+03,  2.20564258e+03,  2.74610513e+03, -5.54292146e+03,\n",
       "        1.04905308e+03,  1.67786684e+03, -6.26987575e+01,  7.48353318e+03,\n",
       "       -6.24201509e+03, -3.07672619e+03, -3.54147645e+03, -1.82658842e+03,\n",
       "       -1.58016228e+03, -5.62990086e+03,  1.12200488e+03, -2.37806687e+03,\n",
       "       -2.32383096e+03,  5.01880633e+03, -6.67053196e+03,  5.40647599e+03,\n",
       "       -7.78652570e+03,  2.33621213e+02, -4.74796561e+03, -2.34038447e+03,\n",
       "        6.96085958e+03, -8.09665494e+03,  1.58196262e+03, -5.07568142e+03,\n",
       "       -3.46771033e+03,  3.74444767e+02, -5.45191937e+01,  6.17908453e+03,\n",
       "       -3.31870997e+02,  6.81523015e+03, -7.56651883e+03,  3.80941207e+03,\n",
       "        1.63699349e+03,  2.96232690e+03,  1.51427193e+03,  5.01707774e+03,\n",
       "        1.42452768e+03,  9.08774202e+02,  1.61327575e+03, -4.46372007e+03,\n",
       "        4.69464096e+03, -1.28258364e+03, -1.71969824e+03, -3.33214661e+03,\n",
       "        2.62632627e+03, -3.47963675e+03,  3.20450404e+03, -5.20418338e+03,\n",
       "       -1.82203998e+03,  1.48779104e+03,  3.73570750e+03,  1.79972558e+03,\n",
       "       -2.75577677e+00,  3.33628645e+03, -4.79627239e+03,  2.94665756e+03,\n",
       "        2.41760519e+03,  3.20291115e+03,  3.78004139e+03,  4.50821542e+03,\n",
       "        2.61651943e+02, -3.12051382e+01, -1.28657956e+03,  4.29098861e+03,\n",
       "       -3.27195506e+03,  2.32761790e+03, -1.57343190e+03, -1.49107669e+03,\n",
       "       -9.06555980e+01,  2.14166105e+03,  5.77209194e+03, -4.61617408e+03,\n",
       "        1.38886583e+03, -1.78364825e+03,  2.18888616e+03,  1.33071484e+03,\n",
       "        1.18102225e+03,  2.20234580e+02,  1.51791409e+03,  1.80355408e+03,\n",
       "        4.78231316e+03,  6.75611938e+03, -1.08537587e+03, -3.11690300e+03,\n",
       "       -2.74939249e+03, -4.80354338e+03, -6.10481816e+03,  4.72819161e+03,\n",
       "       -8.00530413e+02, -3.11842576e+03, -6.01260985e+03, -2.20022386e+03,\n",
       "       -5.74386533e+03,  3.58078158e+02, -1.39498317e+03,  8.22465593e+03,\n",
       "        3.83866867e+03, -3.64848929e+03,  7.96223918e+03, -1.40689800e+03,\n",
       "       -4.48351389e+03, -2.05222084e+03,  1.44773779e+03, -2.73057156e+03,\n",
       "       -7.22760443e+02, -4.83498324e+03, -3.29784480e+02, -7.92646004e+03,\n",
       "       -2.42291002e+03, -2.37936132e+03, -1.26622995e+03, -5.88749963e+02,\n",
       "       -6.88149334e+03,  1.41235288e+03,  2.52391506e+03, -5.81700359e+03,\n",
       "       -7.83254020e+02, -5.94807280e+03,  1.14358496e+03, -1.32781503e+02,\n",
       "       -1.49171689e+03,  7.01920573e+03, -6.21672366e+03, -2.65377012e+03,\n",
       "       -3.09234699e+03,  1.10606057e+03, -1.18488949e+02, -5.20073413e+02,\n",
       "        3.43033316e+03,  2.77475445e+03,  1.67906651e+03, -3.25197662e+03,\n",
       "       -1.04721798e+04,  7.06687177e+02, -1.94068134e+03,  1.67118079e+03,\n",
       "        9.15464045e+02, -3.60168975e+03,  4.75770966e+03, -4.87604237e+03,\n",
       "        9.63491885e+03, -2.88885284e+03,  3.76869591e+03, -1.84345213e+03,\n",
       "       -2.43288779e+03, -1.46098674e+03, -2.78688660e+03, -5.92476042e+03,\n",
       "       -3.70374887e+03, -3.79707711e+03,  6.92986883e+02, -3.74004147e+03,\n",
       "       -1.19948196e+03, -5.87871252e+03, -4.56118235e+03, -4.75019121e+03,\n",
       "        2.98109841e+03, -1.36736686e+03,  5.10120582e+03,  3.22018615e+03,\n",
       "       -1.84998398e+03,  1.34711004e+03,  1.72183313e+03,  1.17546795e+03,\n",
       "        1.76536321e+03, -9.26996665e+02, -3.31894216e+03, -6.76226046e+03,\n",
       "       -3.45462071e+03,  6.53063542e+03, -5.55330308e+03,  2.51979936e+03,\n",
       "       -5.39923598e+02, -1.19045099e+03,  7.25509656e+02,  1.01843998e+03,\n",
       "        4.63526205e+03,  5.02697539e+02, -4.52336560e+03, -1.11715016e+03,\n",
       "        2.13548868e+03,  3.60284508e+03, -7.27307369e+02, -4.92147632e+02,\n",
       "       -6.17351265e+03, -8.62457266e+02, -3.82146331e+03, -2.41174667e+03,\n",
       "        2.54460571e+03,  6.04590442e+03, -1.80927059e+03, -2.94265099e+03,\n",
       "       -6.79978183e+03,  2.06160505e+03,  1.32733820e+03,  1.58568938e+02,\n",
       "       -4.08261193e+03, -7.51166262e+03,  4.30555582e+03,  8.77143830e+03,\n",
       "       -3.68520910e+03,  2.92555297e+03,  1.47995296e+03, -5.49131552e+02,\n",
       "        1.00714554e+03, -6.53911400e+03, -2.01760392e+03, -5.33286489e+03,\n",
       "        5.55461484e+03, -1.51711404e+03, -3.64980515e+03,  3.61899817e+03,\n",
       "       -1.65937602e+03,  5.93889859e+03,  7.75571823e+03,  1.81057584e+03,\n",
       "        8.15288909e+03, -8.68584678e+02, -3.10412932e+03, -3.07673569e+03,\n",
       "        1.03619398e+04, -4.65950873e+03, -8.33777279e+02, -6.17044866e+03,\n",
       "       -5.68558254e+03, -2.63967622e+03,  8.59931255e+03,  1.28964203e+03,\n",
       "        2.35436860e+03, -7.08042484e+03,  3.91412051e+03, -1.41719193e+02,\n",
       "        6.46898666e+03, -2.53508008e+03,  5.81725337e+03, -2.98220324e+03,\n",
       "        1.15295575e+04, -3.88526007e+03,  2.81182577e+03, -5.08787935e+03,\n",
       "       -2.52983655e+03, -2.93308194e+03, -1.21230424e+03, -1.65961588e+03,\n",
       "        5.05076300e+03, -9.10472748e+02, -2.02948443e+03, -2.65991662e+03,\n",
       "       -2.99454506e+02,  3.59930637e+03,  6.13232135e+02,  8.73796509e+03,\n",
       "        9.03065035e+03, -3.56099021e+03, -5.06088596e+03,  1.79407415e+03,\n",
       "       -8.47677723e+02,  1.19187739e+03,  1.50273266e+03, -1.76386159e+02,\n",
       "        1.97991878e+03,  3.38053408e+03,  1.47039091e+03,  2.59549971e+03,\n",
       "        1.76916629e+03,  4.28693300e+03,  5.40692648e+02, -8.13905463e+03,\n",
       "        1.56487066e+03, -5.13801551e+03, -8.19634177e+02,  1.90446308e+03,\n",
       "       -3.45572736e+02, -5.99682058e+03,  2.76823914e+03, -5.45145552e+03,\n",
       "       -7.69182970e+03,  4.39695172e+03,  3.39778967e+03,  3.48300203e+03,\n",
       "       -2.21661434e+03,  4.47845237e+03, -3.98579132e+02, -3.36760284e+03,\n",
       "        1.81972778e+03,  6.12104420e+02,  6.98833716e+02, -8.49563018e+03,\n",
       "        3.60435309e+01,  1.01008942e+03,  4.63707562e+03,  4.38213506e+03,\n",
       "        5.51449993e+03, -3.28694725e+03, -4.91687772e+02,  5.03234295e+03,\n",
       "        2.79792396e+03, -5.34703149e+02, -1.20228088e+03, -3.40332111e+03,\n",
       "       -1.19080552e+03, -2.74634035e+03,  9.39908454e+03,  5.65321570e+03,\n",
       "       -3.72407165e+03,  9.24173671e+02, -2.41033013e+03,  5.74815831e+03,\n",
       "       -2.51518077e+03,  1.77072638e+03,  1.00286059e+04,  1.00930718e+03,\n",
       "        1.97454698e+03,  9.35276731e+02,  1.40181032e+03,  1.35957676e+03,\n",
       "        3.56959864e+03,  8.33654999e+03, -2.35575657e+03,  3.10576325e+02,\n",
       "       -2.57066863e+02, -6.05815039e+03,  4.45886512e+03,  3.20791803e+03,\n",
       "        4.67333784e+03,  3.99067764e+03,  4.73879793e+03, -2.75525229e+03,\n",
       "       -2.44272266e+03, -7.74115369e+02, -7.69232508e+03,  3.84648379e+03,\n",
       "       -2.18120920e+03, -1.43059584e+03, -9.88081819e+02,  1.03218852e+03,\n",
       "       -6.42739812e+03, -2.14214627e+03,  7.78813966e+03, -7.52146112e+02])"
      ]
     },
     "execution_count": 42,
     "metadata": {},
     "output_type": "execute_result"
    }
   ],
   "source": [
    "big_y"
   ]
  },
  {
   "cell_type": "code",
   "execution_count": 43,
   "metadata": {},
   "outputs": [
    {
     "name": "stdout",
     "output_type": "stream",
     "text": [
      "CPU times: user 14.7 s, sys: 273 ms, total: 15 s\n",
      "Wall time: 13.8 s\n"
     ]
    },
    {
     "data": {
      "text/plain": [
       "LinearRegression(copy_X=True, fit_intercept=True, n_jobs=None,\n",
       "         normalize=False)"
      ]
     },
     "execution_count": 43,
     "metadata": {},
     "output_type": "execute_result"
    }
   ],
   "source": [
    "big_reg = LinearRegression()\n",
    "%time big_reg.fit(big_X, big_y)"
   ]
  }
 ],
 "metadata": {
  "kernelspec": {
   "display_name": "Python 3",
   "language": "python",
   "name": "python3"
  },
  "language_info": {
   "codemirror_mode": {
    "name": "ipython",
    "version": 3
   },
   "file_extension": ".py",
   "mimetype": "text/x-python",
   "name": "python",
   "nbconvert_exporter": "python",
   "pygments_lexer": "ipython3",
   "version": "3.7.0"
  }
 },
 "nbformat": 4,
 "nbformat_minor": 2
}
